{
 "cells": [
  {
   "cell_type": "raw",
   "metadata": {
    "vscode": {
     "languageId": "raw"
    }
   },
   "source": [
    "Lab Activity/Exercise #3            \n",
    "Programmed by: Camanso, Jewel E.  \n",
    "Course and Section: BSCpE 2-3           \n",
    "Instructor: Engr. Godofredo T. Avena   \n",
    "Date Submitted: October 8, 2024"
   ]
  },
  {
   "cell_type": "markdown",
   "metadata": {},
   "source": [
    "## Lab 3 Exercise 1\n",
    "\n",
    "from a given list of integers, create a new list using comprehension that will compute the square of odd integer elements.\n",
    "\n",
    "### sample calls\n",
    "\n",
    "[2,4,3] == [9]\n",
    "[0,0,1,1] == [1,1]"
   ]
  },
  {
   "cell_type": "code",
   "execution_count": 17,
   "metadata": {},
   "outputs": [
    {
     "name": "stdout",
     "output_type": "stream",
     "text": [
      "[1, 1]\n"
     ]
    }
   ],
   "source": [
    "integer = [0,0,1,1]\n",
    "square = [integer**2 for integer in integer if integer % 2 != 0]\n",
    "\n",
    "print(square)"
   ]
  },
  {
   "cell_type": "markdown",
   "metadata": {},
   "source": [
    "## Lab 3 Exercise 2\n",
    "\n",
    "Using comprehension, create a new list of tuples from two given lists:\n",
    "\n",
    "### sample calls\n",
    "\n",
    "list1[1,2,3]\n",
    "list2[\"mark\",\"alice\",\"john]\n",
    "\n",
    "result: listOfTuple[(1,\"mark\"),(2,\"alice\"),(3,\"john\")] "
   ]
  },
  {
   "cell_type": "code",
   "execution_count": 18,
   "metadata": {},
   "outputs": [
    {
     "name": "stdout",
     "output_type": "stream",
     "text": [
      "[(1, 'mark'), (2, 'alice'), (3, 'john')]\n"
     ]
    }
   ],
   "source": [
    "list1 = [1,2,3]\n",
    "list2 = [\"mark\", \"alice\", \"john\"]\n",
    "list_of_tuples = [(numbers, names) for numbers, names in zip(list1,list2)]\n",
    "\n",
    "print(list_of_tuples)"
   ]
  },
  {
   "cell_type": "markdown",
   "metadata": {},
   "source": [
    "## Lab 3 Exercise 3\n",
    "#### Provide a list comprehension that implementation for a function called vowelsToUpper with the following signature:\n",
    "\n",
    "method name : vowelsToUpper\n",
    "\n",
    "input argument : String \n",
    "\n",
    "return argument : String\n",
    "\n",
    "vowelsToUpper must return a version of its String argument with all its vowels changed to their uppercase forms. Nonvowel characters stay as is.\n",
    "\n",
    "### Sample Calls\n",
    "\n",
    "vowelsToUpper \"\" == \"\"\n",
    "\n",
    "vowelsToUpper \"Hello, world!\" == \"HEllO, wOrld!\"\n",
    "\n",
    "vowelsToUpper \"hello hi bye\" == \"hEllO hI byE\""
   ]
  },
  {
   "cell_type": "code",
   "execution_count": 19,
   "metadata": {},
   "outputs": [
    {
     "name": "stdout",
     "output_type": "stream",
     "text": [
      "HEllO, wOrld!\n"
     ]
    }
   ],
   "source": [
    "words = \"Hello, world!\"\n",
    "vowel_to_upper = \"\".join([vowel.upper() if vowel in 'aeiou' else vowel for vowel in words])\n",
    "\n",
    "print(vowel_to_upper)"
   ]
  }
 ],
 "metadata": {
  "kernelspec": {
   "display_name": "Python 3",
   "language": "python",
   "name": "python3"
  },
  "language_info": {
   "codemirror_mode": {
    "name": "ipython",
    "version": 3
   },
   "file_extension": ".py",
   "mimetype": "text/x-python",
   "name": "python",
   "nbconvert_exporter": "python",
   "pygments_lexer": "ipython3",
   "version": "3.12.6"
  }
 },
 "nbformat": 4,
 "nbformat_minor": 2
}
